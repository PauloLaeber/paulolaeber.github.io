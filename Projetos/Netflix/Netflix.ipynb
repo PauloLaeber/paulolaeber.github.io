{
 "cells": [
  {
   "cell_type": "code",
   "execution_count": 1,
   "metadata": {},
   "outputs": [],
   "source": [
    "import pandas as pd\n",
    "import numpy as np"
   ]
  },
  {
   "cell_type": "code",
   "execution_count": 98,
   "metadata": {},
   "outputs": [
    {
     "data": {
      "text/html": [
       "<div>\n",
       "<style scoped>\n",
       "    .dataframe tbody tr th:only-of-type {\n",
       "        vertical-align: middle;\n",
       "    }\n",
       "\n",
       "    .dataframe tbody tr th {\n",
       "        vertical-align: top;\n",
       "    }\n",
       "\n",
       "    .dataframe thead th {\n",
       "        text-align: right;\n",
       "    }\n",
       "</style>\n",
       "<table border=\"1\" class=\"dataframe\">\n",
       "  <thead>\n",
       "    <tr style=\"text-align: right;\">\n",
       "      <th></th>\n",
       "      <th>Profile Name</th>\n",
       "      <th>Start Time</th>\n",
       "      <th>Duration</th>\n",
       "      <th>Attributes</th>\n",
       "      <th>Title</th>\n",
       "      <th>Supplemental Video Type</th>\n",
       "      <th>Device Type</th>\n",
       "      <th>Bookmark</th>\n",
       "      <th>Latest Bookmark</th>\n",
       "      <th>Country</th>\n",
       "    </tr>\n",
       "  </thead>\n",
       "  <tbody>\n",
       "    <tr>\n",
       "      <th>0</th>\n",
       "      <td>ANA</td>\n",
       "      <td>2022-12-29 20:03:04</td>\n",
       "      <td>00:00:22</td>\n",
       "      <td>Autoplayed: user action: None;</td>\n",
       "      <td>Mistério no Mediterrâneo (Trailer)</td>\n",
       "      <td>TRAILER</td>\n",
       "      <td>Samsung CE 2021 Kant-S2e UHD (AU8000) TV Smart TV</td>\n",
       "      <td>00:00:22</td>\n",
       "      <td>00:00:22</td>\n",
       "      <td>BR (Brazil)</td>\n",
       "    </tr>\n",
       "    <tr>\n",
       "      <th>1</th>\n",
       "      <td>ANA</td>\n",
       "      <td>2022-12-29 20:01:20</td>\n",
       "      <td>00:01:32</td>\n",
       "      <td>Autoplayed: user action: None;</td>\n",
       "      <td>Klaus (Trailer)</td>\n",
       "      <td>TRAILER</td>\n",
       "      <td>Samsung CE 2021 Kant-S2e UHD (AU8000) TV Smart TV</td>\n",
       "      <td>00:01:32</td>\n",
       "      <td>00:01:32</td>\n",
       "      <td>BR (Brazil)</td>\n",
       "    </tr>\n",
       "    <tr>\n",
       "      <th>2</th>\n",
       "      <td>ANA</td>\n",
       "      <td>2022-12-29 19:59:34</td>\n",
       "      <td>00:00:12</td>\n",
       "      <td>Autoplayed: user action: None;</td>\n",
       "      <td>Kung Fu Hustle_hook_primary_16x9</td>\n",
       "      <td>HOOK</td>\n",
       "      <td>Samsung CE 2021 Kant-S2e UHD (AU8000) TV Smart TV</td>\n",
       "      <td>00:00:12</td>\n",
       "      <td>00:00:12</td>\n",
       "      <td>BR (Brazil)</td>\n",
       "    </tr>\n",
       "    <tr>\n",
       "      <th>3</th>\n",
       "      <td>ANA</td>\n",
       "      <td>2022-12-02 23:35:22</td>\n",
       "      <td>00:00:15</td>\n",
       "      <td>Autoplayed: user action: None;</td>\n",
       "      <td>Justiça em Família (Clipe 2): Justiça em Família</td>\n",
       "      <td>HOOK</td>\n",
       "      <td>Samsung CE 2021 Kant-S2e UHD (AU8000) TV Smart TV</td>\n",
       "      <td>00:00:15</td>\n",
       "      <td>00:00:15</td>\n",
       "      <td>BR (Brazil)</td>\n",
       "    </tr>\n",
       "    <tr>\n",
       "      <th>4</th>\n",
       "      <td>ANA</td>\n",
       "      <td>2022-12-02 23:34:57</td>\n",
       "      <td>00:00:04</td>\n",
       "      <td>Autoplayed: user action: None;</td>\n",
       "      <td>Temporada 4 (Trailer): Elite</td>\n",
       "      <td>TRAILER</td>\n",
       "      <td>Samsung CE 2021 Kant-S2e UHD (AU8000) TV Smart TV</td>\n",
       "      <td>00:00:04</td>\n",
       "      <td>00:00:04</td>\n",
       "      <td>BR (Brazil)</td>\n",
       "    </tr>\n",
       "  </tbody>\n",
       "</table>\n",
       "</div>"
      ],
      "text/plain": [
       "  Profile Name           Start Time  Duration   \n",
       "0         ANA   2022-12-29 20:03:04  00:00:22  \\\n",
       "1         ANA   2022-12-29 20:01:20  00:01:32   \n",
       "2         ANA   2022-12-29 19:59:34  00:00:12   \n",
       "3         ANA   2022-12-02 23:35:22  00:00:15   \n",
       "4         ANA   2022-12-02 23:34:57  00:00:04   \n",
       "\n",
       "                        Attributes   \n",
       "0  Autoplayed: user action: None;   \\\n",
       "1  Autoplayed: user action: None;    \n",
       "2  Autoplayed: user action: None;    \n",
       "3  Autoplayed: user action: None;    \n",
       "4  Autoplayed: user action: None;    \n",
       "\n",
       "                                              Title Supplemental Video Type   \n",
       "0                Mistério no Mediterrâneo (Trailer)                 TRAILER  \\\n",
       "1                                   Klaus (Trailer)                 TRAILER   \n",
       "2                  Kung Fu Hustle_hook_primary_16x9                    HOOK   \n",
       "3  Justiça em Família (Clipe 2): Justiça em Família                    HOOK   \n",
       "4                      Temporada 4 (Trailer): Elite                 TRAILER   \n",
       "\n",
       "                                         Device Type  Bookmark   \n",
       "0  Samsung CE 2021 Kant-S2e UHD (AU8000) TV Smart TV  00:00:22  \\\n",
       "1  Samsung CE 2021 Kant-S2e UHD (AU8000) TV Smart TV  00:01:32   \n",
       "2  Samsung CE 2021 Kant-S2e UHD (AU8000) TV Smart TV  00:00:12   \n",
       "3  Samsung CE 2021 Kant-S2e UHD (AU8000) TV Smart TV  00:00:15   \n",
       "4  Samsung CE 2021 Kant-S2e UHD (AU8000) TV Smart TV  00:00:04   \n",
       "\n",
       "  Latest Bookmark      Country  \n",
       "0        00:00:22  BR (Brazil)  \n",
       "1        00:01:32  BR (Brazil)  \n",
       "2        00:00:12  BR (Brazil)  \n",
       "3        00:00:15  BR (Brazil)  \n",
       "4        00:00:04  BR (Brazil)  "
      ]
     },
     "execution_count": 98,
     "metadata": {},
     "output_type": "execute_result"
    }
   ],
   "source": [
    "dados = pd.read_csv('../Netflix/ViewingActivity.csv')\n",
    "dados.head()"
   ]
  },
  {
   "cell_type": "code",
   "execution_count": 4,
   "metadata": {},
   "outputs": [
    {
     "data": {
      "text/plain": [
       "(1606, 10)"
      ]
     },
     "execution_count": 4,
     "metadata": {},
     "output_type": "execute_result"
    }
   ],
   "source": [
    "dados.shape"
   ]
  },
  {
   "cell_type": "code",
   "execution_count": 3,
   "metadata": {},
   "outputs": [
    {
     "data": {
      "text/plain": [
       "Profile Name       object\n",
       "Start Time         object\n",
       "Duration           object\n",
       "Title              object\n",
       "Device Type        object\n",
       "Bookmark           object\n",
       "Latest Bookmark    object\n",
       "dtype: object"
      ]
     },
     "execution_count": 3,
     "metadata": {},
     "output_type": "execute_result"
    }
   ],
   "source": [
    "dados.dtypes"
   ]
  },
  {
   "cell_type": "code",
   "execution_count": 101,
   "metadata": {},
   "outputs": [
    {
     "data": {
      "text/plain": [
       "Profile Name                        object\n",
       "Start Time                  datetime64[ns]\n",
       "Duration                   timedelta64[ns]\n",
       "Attributes                          object\n",
       "Title                               object\n",
       "Supplemental Video Type             object\n",
       "Device Type                         object\n",
       "Bookmark                   timedelta64[ns]\n",
       "Latest Bookmark                     object\n",
       "Country                             object\n",
       "dtype: object"
      ]
     },
     "execution_count": 101,
     "metadata": {},
     "output_type": "execute_result"
    }
   ],
   "source": [
    "dados['Duration'] = pd.to_timedelta(dados['Duration'])\n",
    "dados['Bookmark'] = pd.to_timedelta(dados['Bookmark'])\n",
    "dados['Start Time'] = pd.to_datetime(dados['Start Time'])\n",
    "dados = dados[dados['Profile Name'] != 'TECO']\n",
    "dados.dtypes"
   ]
  },
  {
   "cell_type": "code",
   "execution_count": 7,
   "metadata": {},
   "outputs": [
    {
     "data": {
      "text/plain": [
       "Profile Name\n",
       "PAULO     906\n",
       "RENATO    645\n",
       "ANA        54\n",
       "TECO        1\n",
       "Name: count, dtype: int64"
      ]
     },
     "execution_count": 7,
     "metadata": {},
     "output_type": "execute_result"
    }
   ],
   "source": [
    "dados['Profile Name'].value_counts()"
   ]
  },
  {
   "cell_type": "code",
   "execution_count": 24,
   "metadata": {},
   "outputs": [
    {
     "data": {
      "text/plain": [
       "<Axes: xlabel='Profile Name'>"
      ]
     },
     "execution_count": 24,
     "metadata": {},
     "output_type": "execute_result"
    },
    {
     "data": {
      "image/png": "[encoded data removed]",
      "text/plain": [
       "<Figure size 640x480 with 1 Axes>"
      ]
     },
     "metadata": {},
     "output_type": "display_data"
    }
   ],
   "source": [
    "import matplotlib.pyplot as plt\n",
    "\n",
    "dados['Profile Name'].value_counts().plot(kind='bar')"
   ]
  },
  {
   "cell_type": "code",
   "execution_count": 85,
   "metadata": {},
   "outputs": [
    {
     "data": {
      "text/html": [
       "<div>\n",
       "<style scoped>\n",
       "    .dataframe tbody tr th:only-of-type {\n",
       "        vertical-align: middle;\n",
       "    }\n",
       "\n",
       "    .dataframe tbody tr th {\n",
       "        vertical-align: top;\n",
       "    }\n",
       "\n",
       "    .dataframe thead th {\n",
       "        text-align: right;\n",
       "    }\n",
       "</style>\n",
       "<table border=\"1\" class=\"dataframe\">\n",
       "  <thead>\n",
       "    <tr style=\"text-align: right;\">\n",
       "      <th></th>\n",
       "      <th>count</th>\n",
       "      <th>mean</th>\n",
       "      <th>std</th>\n",
       "      <th>min</th>\n",
       "      <th>25%</th>\n",
       "      <th>50%</th>\n",
       "      <th>75%</th>\n",
       "      <th>max</th>\n",
       "    </tr>\n",
       "    <tr>\n",
       "      <th>Profile Name</th>\n",
       "      <th></th>\n",
       "      <th></th>\n",
       "      <th></th>\n",
       "      <th></th>\n",
       "      <th></th>\n",
       "      <th></th>\n",
       "      <th></th>\n",
       "      <th></th>\n",
       "    </tr>\n",
       "  </thead>\n",
       "  <tbody>\n",
       "    <tr>\n",
       "      <th>ANA</th>\n",
       "      <td>54</td>\n",
       "      <td>0 days 00:04:27.703703703</td>\n",
       "      <td>0 days 00:21:07.389913787</td>\n",
       "      <td>0 days 00:00:04</td>\n",
       "      <td>0 days 00:00:08.250000</td>\n",
       "      <td>0 days 00:00:16.500000</td>\n",
       "      <td>0 days 00:00:37.250000</td>\n",
       "      <td>0 days 02:04:38</td>\n",
       "    </tr>\n",
       "    <tr>\n",
       "      <th>PAULO</th>\n",
       "      <td>906</td>\n",
       "      <td>0 days 00:25:13.858719646</td>\n",
       "      <td>0 days 00:18:19.634140019</td>\n",
       "      <td>0 days 00:00:01</td>\n",
       "      <td>0 days 00:13:59.500000</td>\n",
       "      <td>0 days 00:21:27</td>\n",
       "      <td>0 days 00:41:46.500000</td>\n",
       "      <td>0 days 02:31:45</td>\n",
       "    </tr>\n",
       "    <tr>\n",
       "      <th>RENATO</th>\n",
       "      <td>645</td>\n",
       "      <td>0 days 00:34:39.514728682</td>\n",
       "      <td>0 days 00:42:20.147697419</td>\n",
       "      <td>0 days 00:00:01</td>\n",
       "      <td>0 days 00:00:26</td>\n",
       "      <td>0 days 00:14:39</td>\n",
       "      <td>0 days 01:13:52</td>\n",
       "      <td>0 days 02:46:34</td>\n",
       "    </tr>\n",
       "  </tbody>\n",
       "</table>\n",
       "</div>"
      ],
      "text/plain": [
       "             count                       mean                        std   \n",
       "Profile Name                                                               \n",
       "ANA             54  0 days 00:04:27.703703703  0 days 00:21:07.389913787  \\\n",
       "PAULO          906  0 days 00:25:13.858719646  0 days 00:18:19.634140019   \n",
       "RENATO         645  0 days 00:34:39.514728682  0 days 00:42:20.147697419   \n",
       "\n",
       "                          min                     25%                     50%   \n",
       "Profile Name                                                                    \n",
       "ANA           0 days 00:00:04  0 days 00:00:08.250000  0 days 00:00:16.500000  \\\n",
       "PAULO         0 days 00:00:01  0 days 00:13:59.500000         0 days 00:21:27   \n",
       "RENATO        0 days 00:00:01         0 days 00:00:26         0 days 00:14:39   \n",
       "\n",
       "                                 75%              max  \n",
       "Profile Name                                           \n",
       "ANA           0 days 00:00:37.250000  0 days 02:04:38  \n",
       "PAULO         0 days 00:41:46.500000  0 days 02:31:45  \n",
       "RENATO               0 days 01:13:52  0 days 02:46:34  "
      ]
     },
     "execution_count": 85,
     "metadata": {},
     "output_type": "execute_result"
    }
   ],
   "source": [
    "dados.groupby('Profile Name')['Duration'].describe()"
   ]
  },
  {
   "cell_type": "code",
   "execution_count": 104,
   "metadata": {},
   "outputs": [
    {
     "data": {
      "text/plain": [
       "<Axes: xlabel='Profile Name', ylabel='Duration'>"
      ]
     },
     "execution_count": 104,
     "metadata": {},
     "output_type": "execute_result"
    },
    {
     "data": {
      "image/png": "[encoded data removed]",
      "text/plain": [
       "<Figure size 640x480 with 1 Axes>"
      ]
     },
     "metadata": {},
     "output_type": "display_data"
    }
   ],
   "source": [
    "import seaborn as sns\n",
    "\n",
    "tempo = dados[['Profile Name', 'Duration']]\n",
    "tempo = tempo[tempo['Profile Name'] != 'TECO']\n",
    "tempo['Duration'] = pd.to_numeric(tempo['Duration'])/(1000000000*60)  #Conversão para minutos\n",
    "\n",
    "sns.boxplot(tempo, x = 'Profile Name', y = 'Duration')"
   ]
  },
  {
   "cell_type": "code",
   "execution_count": 86,
   "metadata": {},
   "outputs": [
    {
     "data": {
      "text/plain": [
       "Profile Name\n",
       "ANA       0 days 04:00:56\n",
       "PAULO    15 days 20:59:16\n",
       "RENATO   15 days 12:34:47\n",
       "Name: Duration, dtype: timedelta64[ns]"
      ]
     },
     "execution_count": 86,
     "metadata": {},
     "output_type": "execute_result"
    }
   ],
   "source": [
    "dados.groupby('Profile Name')['Duration'].sum()"
   ]
  },
  {
   "cell_type": "code",
   "execution_count": 91,
   "metadata": {},
   "outputs": [
    {
     "data": {
      "text/plain": [
       "Profile Name  Supplemental Video Type\n",
       "ANA           HOOK                        31\n",
       "              TRAILER                     17\n",
       "              TEASER_TRAILER               4\n",
       "PAULO         PROMOTIONAL                  1\n",
       "RENATO        HOOK                       146\n",
       "              TRAILER                     41\n",
       "              TEASER_TRAILER              18\n",
       "Name: count, dtype: int64"
      ]
     },
     "execution_count": 91,
     "metadata": {},
     "output_type": "execute_result"
    }
   ],
   "source": [
    "dados.groupby('Profile Name')['Supplemental Video Type'].value_counts()"
   ]
  },
  {
   "cell_type": "code",
   "execution_count": 102,
   "metadata": {},
   "outputs": [
    {
     "data": {
      "text/plain": [
       "Profile Name\n",
       "PAULO     905\n",
       "RENATO    440\n",
       "ANA         2\n",
       "Name: count, dtype: int64"
      ]
     },
     "execution_count": 102,
     "metadata": {},
     "output_type": "execute_result"
    }
   ],
   "source": [
    "dados = dados[dados['Supplemental Video Type'].isnull()]\n",
    "dados['Profile Name'].value_counts()"
   ]
  },
  {
   "cell_type": "code",
   "execution_count": 103,
   "metadata": {},
   "outputs": [
    {
     "data": {
      "text/html": [
       "<div>\n",
       "<style scoped>\n",
       "    .dataframe tbody tr th:only-of-type {\n",
       "        vertical-align: middle;\n",
       "    }\n",
       "\n",
       "    .dataframe tbody tr th {\n",
       "        vertical-align: top;\n",
       "    }\n",
       "\n",
       "    .dataframe thead th {\n",
       "        text-align: right;\n",
       "    }\n",
       "</style>\n",
       "<table border=\"1\" class=\"dataframe\">\n",
       "  <thead>\n",
       "    <tr style=\"text-align: right;\">\n",
       "      <th></th>\n",
       "      <th>count</th>\n",
       "      <th>mean</th>\n",
       "      <th>std</th>\n",
       "      <th>min</th>\n",
       "      <th>25%</th>\n",
       "      <th>50%</th>\n",
       "      <th>75%</th>\n",
       "      <th>max</th>\n",
       "    </tr>\n",
       "    <tr>\n",
       "      <th>Profile Name</th>\n",
       "      <th></th>\n",
       "      <th></th>\n",
       "      <th></th>\n",
       "      <th></th>\n",
       "      <th></th>\n",
       "      <th></th>\n",
       "      <th></th>\n",
       "      <th></th>\n",
       "    </tr>\n",
       "  </thead>\n",
       "  <tbody>\n",
       "    <tr>\n",
       "      <th>ANA</th>\n",
       "      <td>2</td>\n",
       "      <td>0 days 01:50:12.500000</td>\n",
       "      <td>0 days 00:20:24.001838233</td>\n",
       "      <td>0 days 01:35:47</td>\n",
       "      <td>0 days 01:42:59.750000</td>\n",
       "      <td>0 days 01:50:12.500000</td>\n",
       "      <td>0 days 01:57:25.250000</td>\n",
       "      <td>0 days 02:04:38</td>\n",
       "    </tr>\n",
       "    <tr>\n",
       "      <th>PAULO</th>\n",
       "      <td>905</td>\n",
       "      <td>0 days 00:25:15.510497237</td>\n",
       "      <td>0 days 00:18:19.117013944</td>\n",
       "      <td>0 days 00:00:01</td>\n",
       "      <td>0 days 00:14:04</td>\n",
       "      <td>0 days 00:21:27</td>\n",
       "      <td>0 days 00:41:49</td>\n",
       "      <td>0 days 02:31:45</td>\n",
       "    </tr>\n",
       "    <tr>\n",
       "      <th>RENATO</th>\n",
       "      <td>440</td>\n",
       "      <td>0 days 00:50:34.279545454</td>\n",
       "      <td>0 days 00:42:47.149340643</td>\n",
       "      <td>0 days 00:00:01</td>\n",
       "      <td>0 days 00:12:21.750000</td>\n",
       "      <td>0 days 00:38:35</td>\n",
       "      <td>0 days 01:34:23.500000</td>\n",
       "      <td>0 days 02:46:34</td>\n",
       "    </tr>\n",
       "  </tbody>\n",
       "</table>\n",
       "</div>"
      ],
      "text/plain": [
       "             count                       mean                        std   \n",
       "Profile Name                                                               \n",
       "ANA              2     0 days 01:50:12.500000  0 days 00:20:24.001838233  \\\n",
       "PAULO          905  0 days 00:25:15.510497237  0 days 00:18:19.117013944   \n",
       "RENATO         440  0 days 00:50:34.279545454  0 days 00:42:47.149340643   \n",
       "\n",
       "                          min                     25%                     50%   \n",
       "Profile Name                                                                    \n",
       "ANA           0 days 01:35:47  0 days 01:42:59.750000  0 days 01:50:12.500000  \\\n",
       "PAULO         0 days 00:00:01         0 days 00:14:04         0 days 00:21:27   \n",
       "RENATO        0 days 00:00:01  0 days 00:12:21.750000         0 days 00:38:35   \n",
       "\n",
       "                                 75%              max  \n",
       "Profile Name                                           \n",
       "ANA           0 days 01:57:25.250000  0 days 02:04:38  \n",
       "PAULO                0 days 00:41:49  0 days 02:31:45  \n",
       "RENATO        0 days 01:34:23.500000  0 days 02:46:34  "
      ]
     },
     "execution_count": 103,
     "metadata": {},
     "output_type": "execute_result"
    }
   ],
   "source": [
    "dados.groupby('Profile Name')['Duration'].describe()"
   ]
  },
  {
   "cell_type": "code",
   "execution_count": 105,
   "metadata": {},
   "outputs": [
    {
     "data": {
      "text/plain": [
       "Device Type\n",
       "Android DefaultWidevineL3Phone Android Phone         682\n",
       "Firefox PC (Cadmium)                                 438\n",
       "Android DefaultWidevineL3Tablet Android Tablet       168\n",
       "Samsung CE 2021 Kant-S2e UHD (AU8000) TV Smart TV     55\n",
       "DefaultWidevineAndroidPhone                            2\n",
       "Edge (Cadmium)                                         2\n",
       "Name: count, dtype: int64"
      ]
     },
     "execution_count": 105,
     "metadata": {},
     "output_type": "execute_result"
    }
   ],
   "source": []
  }
 ],
 "metadata": {
  "kernelspec": {
   "display_name": "Python 3",
   "language": "python",
   "name": "python3"
  },
  "language_info": {
   "codemirror_mode": {
    "name": "ipython",
    "version": 3
   },
   "file_extension": ".py",
   "mimetype": "text/x-python",
   "name": "python",
   "nbconvert_exporter": "python",
   "pygments_lexer": "ipython3",
   "version": "3.11.3"
  },
  "orig_nbformat": 4
 },
 "nbformat": 4,
 "nbformat_minor": 2
}
